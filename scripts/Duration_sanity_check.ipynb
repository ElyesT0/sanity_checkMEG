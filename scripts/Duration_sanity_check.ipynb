{
 "cells": [
  {
   "cell_type": "code",
   "execution_count": 1,
   "id": "fb74d27b-6009-4030-a481-f068034f3a4f",
   "metadata": {},
   "outputs": [],
   "source": [
    "# Imports\n",
    "from modules import *\n",
    "%load_ext autoreload\n",
    "%autoreload 2\n",
    "#%matplotlib inline\n",
    "%matplotlib qt\n",
    "\n",
    "pd.set_option('display.max_columns', None)  # Display all columns\n",
    "pd.set_option('display.max_rows', 150)      # Display up to 150 rows"
   ]
  },
  {
   "cell_type": "code",
   "execution_count": 2,
   "id": "663c5ab0-e610-4f9f-a1df-c762cb8cebf5",
   "metadata": {},
   "outputs": [],
   "source": [
    "df=pd.read_csv(path_save_merged_behavioral_file)"
   ]
  },
  {
   "cell_type": "markdown",
   "id": "d4e6d50f-cc68-4f17-8ebe-0d1f05b14c40",
   "metadata": {},
   "source": [
    "# Trial Duration Decomposition"
   ]
  },
  {
   "cell_type": "code",
   "execution_count": 4,
   "id": "866eae6c-527a-4506-949a-4fc31be5fd65",
   "metadata": {},
   "outputs": [
    {
     "name": "stdout",
     "output_type": "stream",
     "text": [
      "mean Duration of Reproduction in seconds:  5.327917333333334\n"
     ]
    }
   ],
   "source": [
    "# (1) Presentation duration\n",
    "holder_duration_reproduction=[]\n",
    "for trial in range(len(df)):\n",
    "    reproduction_duration=np.sum(eval(df.iloc[trial]['RTs']))\n",
    "    holder_duration_reproduction.append(reproduction_duration/1000)\n",
    "df['reproduction duration (sec)']=holder_duration_reproduction\n",
    "print('mean Duration of Reproduction in seconds: ', np.mean(df['reproduction duration (sec)'].to_numpy()))"
   ]
  },
  {
   "cell_type": "code",
   "execution_count": 8,
   "id": "e836f678-2b7d-4878-b09c-03dd37c724c7",
   "metadata": {},
   "outputs": [
    {
     "data": {
      "text/plain": [
       "Unnamed: 0                                                                     2\n",
       "subject_id                                                                     1\n",
       "block                                                                          0\n",
       "sequenceName                                                               CRep4\n",
       "trial                                                                          2\n",
       "PresentedSequence                           [5, 0, 4, 3, 4, 0, 3, 5, 5, 0, 3, 4]\n",
       "ProducedSequence                            [4, 5, 0, 3, 2, 5, 5, 4, 0, 5, 3, 2]\n",
       "RTs                            [694, 213, 568, 276, 344, 778, 232, 285, 359, ...\n",
       "distance_dl                                                                  8.0\n",
       "TokenErr                                                                    True\n",
       "TokenErr_forg                                                              False\n",
       "TokenErr_add                                                                True\n",
       "comparable_temp                           [3, 1, 2, 4, -1, 1, 1, 3, 2, 1, 4, -1]\n",
       "performance                                                                 fail\n",
       "reproduction duration (sec)                                                5.169\n",
       "Name: 2, dtype: object"
      ]
     },
     "execution_count": 8,
     "metadata": {},
     "output_type": "execute_result"
    }
   ],
   "source": [
    "df.iloc[2]"
   ]
  },
  {
   "cell_type": "code",
   "execution_count": 55,
   "id": "3de8c80d-11ef-4d21-bc4f-086e9541d217",
   "metadata": {},
   "outputs": [
    {
     "data": {
      "text/html": [
       "<div>\n",
       "<style scoped>\n",
       "    .dataframe tbody tr th:only-of-type {\n",
       "        vertical-align: middle;\n",
       "    }\n",
       "\n",
       "    .dataframe tbody tr th {\n",
       "        vertical-align: top;\n",
       "    }\n",
       "\n",
       "    .dataframe thead th {\n",
       "        text-align: right;\n",
       "    }\n",
       "</style>\n",
       "<table border=\"1\" class=\"dataframe\">\n",
       "  <thead>\n",
       "    <tr style=\"text-align: right;\">\n",
       "      <th></th>\n",
       "      <th>Unnamed: 0</th>\n",
       "      <th>subject_id</th>\n",
       "      <th>block</th>\n",
       "      <th>sequenceName</th>\n",
       "      <th>trial</th>\n",
       "      <th>PresentedSequence</th>\n",
       "      <th>ProducedSequence</th>\n",
       "      <th>RTs</th>\n",
       "      <th>distance_dl</th>\n",
       "      <th>TokenErr</th>\n",
       "      <th>TokenErr_forg</th>\n",
       "      <th>TokenErr_add</th>\n",
       "      <th>comparable_temp</th>\n",
       "      <th>performance</th>\n",
       "      <th>reproduction duration</th>\n",
       "      <th>reproduction duration (sec)</th>\n",
       "    </tr>\n",
       "  </thead>\n",
       "  <tbody>\n",
       "    <tr>\n",
       "      <th>0</th>\n",
       "      <td>0</td>\n",
       "      <td>1</td>\n",
       "      <td>0</td>\n",
       "      <td>CRep4</td>\n",
       "      <td>0</td>\n",
       "      <td>[5, 0, 3, 2, 3, 0, 2, 5, 5, 0, 2, 3]</td>\n",
       "      <td>[0, 5, 1, 2, 3, 0, 5, 2, 3, 0, 0, 5]</td>\n",
       "      <td>[1654, 709, 1721, 863, 629, 341, 482, 435, 304...</td>\n",
       "      <td>6.0</td>\n",
       "      <td>True</td>\n",
       "      <td>False</td>\n",
       "      <td>True</td>\n",
       "      <td>[2, 1, -1, 4, 3, 2, 1, 4, 3, 2, 2, 1]</td>\n",
       "      <td>fail</td>\n",
       "      <td>7.997</td>\n",
       "      <td>7.997</td>\n",
       "    </tr>\n",
       "    <tr>\n",
       "      <th>1</th>\n",
       "      <td>1</td>\n",
       "      <td>1</td>\n",
       "      <td>0</td>\n",
       "      <td>CRep4</td>\n",
       "      <td>1</td>\n",
       "      <td>[5, 3, 4, 1, 4, 3, 1, 5, 5, 3, 1, 4]</td>\n",
       "      <td>[5, 3, 2, 2, 1, 4, 3, 2, 5, 4, 3, 2]</td>\n",
       "      <td>[2136, 621, 557, 1557, 1176, 464, 423, 286, 12...</td>\n",
       "      <td>6.0</td>\n",
       "      <td>True</td>\n",
       "      <td>False</td>\n",
       "      <td>True</td>\n",
       "      <td>[1, 2, -1, -1, 4, 3, 2, -1, 1, 3, 2, -1]</td>\n",
       "      <td>fail</td>\n",
       "      <td>9.647</td>\n",
       "      <td>9.647</td>\n",
       "    </tr>\n",
       "    <tr>\n",
       "      <th>2</th>\n",
       "      <td>2</td>\n",
       "      <td>1</td>\n",
       "      <td>0</td>\n",
       "      <td>CRep4</td>\n",
       "      <td>2</td>\n",
       "      <td>[5, 0, 4, 3, 4, 0, 3, 5, 5, 0, 3, 4]</td>\n",
       "      <td>[4, 5, 0, 3, 2, 5, 5, 4, 0, 5, 3, 2]</td>\n",
       "      <td>[694, 213, 568, 276, 344, 778, 232, 285, 359, ...</td>\n",
       "      <td>8.0</td>\n",
       "      <td>True</td>\n",
       "      <td>False</td>\n",
       "      <td>True</td>\n",
       "      <td>[3, 1, 2, 4, -1, 1, 1, 3, 2, 1, 4, -1]</td>\n",
       "      <td>fail</td>\n",
       "      <td>5.169</td>\n",
       "      <td>5.169</td>\n",
       "    </tr>\n",
       "    <tr>\n",
       "      <th>3</th>\n",
       "      <td>3</td>\n",
       "      <td>1</td>\n",
       "      <td>0</td>\n",
       "      <td>CRep4</td>\n",
       "      <td>3</td>\n",
       "      <td>[3, 2, 5, 1, 5, 2, 1, 3, 3, 2, 1, 5]</td>\n",
       "      <td>[3, 2, 5, 1, 3, 5, 2, 2, 3, 5, 2, 1]</td>\n",
       "      <td>[1040, 290, 381, 338, 1994, 368, 308, 307, 338...</td>\n",
       "      <td>4.0</td>\n",
       "      <td>False</td>\n",
       "      <td>False</td>\n",
       "      <td>False</td>\n",
       "      <td>[1, 2, 3, 4, 1, 3, 2, 2, 1, 3, 2, 4]</td>\n",
       "      <td>fail</td>\n",
       "      <td>7.397</td>\n",
       "      <td>7.397</td>\n",
       "    </tr>\n",
       "    <tr>\n",
       "      <th>4</th>\n",
       "      <td>4</td>\n",
       "      <td>1</td>\n",
       "      <td>0</td>\n",
       "      <td>CRep4</td>\n",
       "      <td>4</td>\n",
       "      <td>[0, 1, 5, 4, 5, 1, 4, 0, 0, 1, 4, 5]</td>\n",
       "      <td>[2, 1, 3, 5, 4, 0, 5, 4, 0, 0, 5, 4]</td>\n",
       "      <td>[1319, 1242, 447, 221, 427, 641, 846, 481, 286...</td>\n",
       "      <td>6.0</td>\n",
       "      <td>True</td>\n",
       "      <td>False</td>\n",
       "      <td>True</td>\n",
       "      <td>[-1, 2, -1, 3, 4, 1, 3, 4, 1, 1, 3, 4]</td>\n",
       "      <td>fail</td>\n",
       "      <td>7.742</td>\n",
       "      <td>7.742</td>\n",
       "    </tr>\n",
       "  </tbody>\n",
       "</table>\n",
       "</div>"
      ],
      "text/plain": [
       "   Unnamed: 0  subject_id  block sequenceName  trial  \\\n",
       "0           0           1      0        CRep4      0   \n",
       "1           1           1      0        CRep4      1   \n",
       "2           2           1      0        CRep4      2   \n",
       "3           3           1      0        CRep4      3   \n",
       "4           4           1      0        CRep4      4   \n",
       "\n",
       "                      PresentedSequence                      ProducedSequence  \\\n",
       "0  [5, 0, 3, 2, 3, 0, 2, 5, 5, 0, 2, 3]  [0, 5, 1, 2, 3, 0, 5, 2, 3, 0, 0, 5]   \n",
       "1  [5, 3, 4, 1, 4, 3, 1, 5, 5, 3, 1, 4]  [5, 3, 2, 2, 1, 4, 3, 2, 5, 4, 3, 2]   \n",
       "2  [5, 0, 4, 3, 4, 0, 3, 5, 5, 0, 3, 4]  [4, 5, 0, 3, 2, 5, 5, 4, 0, 5, 3, 2]   \n",
       "3  [3, 2, 5, 1, 5, 2, 1, 3, 3, 2, 1, 5]  [3, 2, 5, 1, 3, 5, 2, 2, 3, 5, 2, 1]   \n",
       "4  [0, 1, 5, 4, 5, 1, 4, 0, 0, 1, 4, 5]  [2, 1, 3, 5, 4, 0, 5, 4, 0, 0, 5, 4]   \n",
       "\n",
       "                                                 RTs  distance_dl  TokenErr  \\\n",
       "0  [1654, 709, 1721, 863, 629, 341, 482, 435, 304...          6.0      True   \n",
       "1  [2136, 621, 557, 1557, 1176, 464, 423, 286, 12...          6.0      True   \n",
       "2  [694, 213, 568, 276, 344, 778, 232, 285, 359, ...          8.0      True   \n",
       "3  [1040, 290, 381, 338, 1994, 368, 308, 307, 338...          4.0     False   \n",
       "4  [1319, 1242, 447, 221, 427, 641, 846, 481, 286...          6.0      True   \n",
       "\n",
       "   TokenErr_forg  TokenErr_add                           comparable_temp  \\\n",
       "0          False          True     [2, 1, -1, 4, 3, 2, 1, 4, 3, 2, 2, 1]   \n",
       "1          False          True  [1, 2, -1, -1, 4, 3, 2, -1, 1, 3, 2, -1]   \n",
       "2          False          True    [3, 1, 2, 4, -1, 1, 1, 3, 2, 1, 4, -1]   \n",
       "3          False         False      [1, 2, 3, 4, 1, 3, 2, 2, 1, 3, 2, 4]   \n",
       "4          False          True    [-1, 2, -1, 3, 4, 1, 3, 4, 1, 1, 3, 4]   \n",
       "\n",
       "  performance  reproduction duration  reproduction duration (sec)  \n",
       "0        fail                  7.997                        7.997  \n",
       "1        fail                  9.647                        9.647  \n",
       "2        fail                  5.169                        5.169  \n",
       "3        fail                  7.397                        7.397  \n",
       "4        fail                  7.742                        7.742  "
      ]
     },
     "execution_count": 55,
     "metadata": {},
     "output_type": "execute_result"
    }
   ],
   "source": [
    "# (2) Pause in between two presentations\n",
    "df.head()\n",
    "\n"
   ]
  },
  {
   "cell_type": "code",
   "execution_count": null,
   "id": "3b91ff55-37ff-4b4e-836e-ef98177425fb",
   "metadata": {},
   "outputs": [],
   "source": [
    "# (3) Reproduction duration\n"
   ]
  },
  {
   "cell_type": "markdown",
   "id": "acc1bb49-8854-4d9f-bfea-6df9ae674f57",
   "metadata": {},
   "source": [
    "# Block Duration Decomposition"
   ]
  },
  {
   "cell_type": "code",
   "execution_count": null,
   "id": "f8996e2a-5560-4c8e-a781-2087f0233721",
   "metadata": {},
   "outputs": [],
   "source": []
  },
  {
   "cell_type": "markdown",
   "id": "e56d43c2-c87c-4c00-8035-eff695028497",
   "metadata": {},
   "source": [
    "# Experiment Duration Decomposition\n"
   ]
  },
  {
   "cell_type": "code",
   "execution_count": 9,
   "id": "75ece00c-0fdd-47ff-8d29-864596eee9cb",
   "metadata": {},
   "outputs": [
    {
     "data": {
      "text/plain": [
       "'/Users/et/Documents/UNICOG/2-MEG_analysis/1-MEGSEQ/2-MEGSEQ-Neurospin/sanity_checks'"
      ]
     },
     "execution_count": 9,
     "metadata": {},
     "output_type": "execute_result"
    }
   ],
   "source": [
    "pwd"
   ]
  },
  {
   "cell_type": "code",
   "execution_count": 37,
   "id": "d0352871-c9bb-479c-b38a-3c0238e8786f",
   "metadata": {},
   "outputs": [],
   "source": [
    "list_event_dict=[key for key in event_dict.keys()]"
   ]
  },
  {
   "cell_type": "code",
   "execution_count": 39,
   "id": "92bc179f-a1eb-4630-a855-84875bfc68e0",
   "metadata": {},
   "outputs": [
    {
     "ename": "SyntaxError",
     "evalue": "invalid syntax (3643419601.py, line 1)",
     "output_type": "error",
     "traceback": [
      "\u001b[0;36m  Cell \u001b[0;32mIn[39], line 1\u001b[0;36m\u001b[0m\n\u001b[0;31m    [x for x, y in (for item in list_event_dict[2].split('-'))]\u001b[0m\n\u001b[0m                    ^\u001b[0m\n\u001b[0;31mSyntaxError\u001b[0m\u001b[0;31m:\u001b[0m invalid syntax\n"
     ]
    }
   ],
   "source": [
    "[x for x, y in (for item in list_event_dict[2].split('-'))]"
   ]
  },
  {
   "cell_type": "code",
   "execution_count": 34,
   "id": "aa46adf3-2e9f-4276-b2a1-6f8bdb1204d9",
   "metadata": {},
   "outputs": [
    {
     "ename": "ValueError",
     "evalue": "too many values to unpack (expected 2)",
     "output_type": "error",
     "traceback": [
      "\u001b[0;31m---------------------------------------------------------------------------\u001b[0m",
      "\u001b[0;31mValueError\u001b[0m                                Traceback (most recent call last)",
      "Cell \u001b[0;32mIn[34], line 1\u001b[0m\n\u001b[0;32m----> 1\u001b[0m [x \u001b[38;5;28;01mfor\u001b[39;00m (x,y) \u001b[38;5;129;01min\u001b[39;00m list_event_dict[\u001b[38;5;241m2\u001b[39m]\u001b[38;5;241m.\u001b[39msplit(\u001b[38;5;124m'\u001b[39m\u001b[38;5;124m-\u001b[39m\u001b[38;5;124m'\u001b[39m)]\n",
      "Cell \u001b[0;32mIn[34], line 1\u001b[0m, in \u001b[0;36m<listcomp>\u001b[0;34m(.0)\u001b[0m\n\u001b[0;32m----> 1\u001b[0m [x \u001b[38;5;28;01mfor\u001b[39;00m (x,y) \u001b[38;5;129;01min\u001b[39;00m list_event_dict[\u001b[38;5;241m2\u001b[39m]\u001b[38;5;241m.\u001b[39msplit(\u001b[38;5;124m'\u001b[39m\u001b[38;5;124m-\u001b[39m\u001b[38;5;124m'\u001b[39m)]\n",
      "\u001b[0;31mValueError\u001b[0m: too many values to unpack (expected 2)"
     ]
    }
   ],
   "source": [
    "[x for (x,y) in list_event_dict[2].split('-')]"
   ]
  },
  {
   "cell_type": "code",
   "execution_count": null,
   "id": "7ab3b08c-4080-4394-a536-4bb03322c714",
   "metadata": {},
   "outputs": [],
   "source": []
  },
  {
   "cell_type": "code",
   "execution_count": 21,
   "id": "2b286f6d-26f9-4d0e-80e3-919d88996456",
   "metadata": {},
   "outputs": [
    {
     "data": {
      "text/plain": [
       "['fixation_blue',\n",
       " 'fixation',\n",
       " 'Rep2-1',\n",
       " 'Rep2-2',\n",
       " 'Rep2-3',\n",
       " 'Rep2-4',\n",
       " 'Rep2-5',\n",
       " 'Rep2-6',\n",
       " 'CRep2-1',\n",
       " 'CRep2-2',\n",
       " 'CRep2-3',\n",
       " 'CRep2-4',\n",
       " 'CRep2-5',\n",
       " 'CRep2-6',\n",
       " 'Rep3-1',\n",
       " 'Rep3-2',\n",
       " 'Rep3-3',\n",
       " 'Rep3-4',\n",
       " 'Rep3-5',\n",
       " 'Rep3-6',\n",
       " 'CRep3-1',\n",
       " 'CRep3-2',\n",
       " 'CRep3-3',\n",
       " 'CRep3-4',\n",
       " 'CRep3-5',\n",
       " 'CRep3-6',\n",
       " 'Rep4-1',\n",
       " 'Rep4-2',\n",
       " 'Rep4-3',\n",
       " 'Rep4-4',\n",
       " 'Rep4-5',\n",
       " 'Rep4-6',\n",
       " 'CRep4-1',\n",
       " 'CRep4-2',\n",
       " 'CRep4-3',\n",
       " 'CRep4-4',\n",
       " 'CRep4-5',\n",
       " 'CRep4-6',\n",
       " 'RepEmbed-1',\n",
       " 'RepEmbed-2',\n",
       " 'RepEmbed-3',\n",
       " 'RepEmbed-4',\n",
       " 'RepEmbed-5',\n",
       " 'RepEmbed-6',\n",
       " 'C1RepEmbed-1',\n",
       " 'C1RepEmbed-2',\n",
       " 'C1RepEmbed-3',\n",
       " 'C1RepEmbed-4',\n",
       " 'C1RepEmbed-5',\n",
       " 'C1RepEmbed-6',\n",
       " 'C2RepEmbed-1',\n",
       " 'C2RepEmbed-2',\n",
       " 'C2RepEmbed-3',\n",
       " 'C2RepEmbed-4',\n",
       " 'C2RepEmbed-5',\n",
       " 'C2RepEmbed-6',\n",
       " 'win',\n",
       " 'loss']"
      ]
     },
     "execution_count": 21,
     "metadata": {},
     "output_type": "execute_result"
    }
   ],
   "source": [
    "list_event_dict"
   ]
  },
  {
   "cell_type": "code",
   "execution_count": 17,
   "id": "040f42ea-3250-4041-b0c8-0761b569154a",
   "metadata": {},
   "outputs": [
    {
     "data": {
      "text/plain": [
       "{'fixation_blue': 4,\n",
       " 'fixation': 5,\n",
       " 'Rep2-1': 6,\n",
       " 'Rep2-2': 7,\n",
       " 'Rep2-3': 8,\n",
       " 'Rep2-4': 9,\n",
       " 'Rep2-5': 10,\n",
       " 'Rep2-6': 11,\n",
       " 'CRep2-1': 12,\n",
       " 'CRep2-2': 13,\n",
       " 'CRep2-3': 14,\n",
       " 'CRep2-4': 15,\n",
       " 'CRep2-5': 16,\n",
       " 'CRep2-6': 17,\n",
       " 'Rep3-1': 18,\n",
       " 'Rep3-2': 19,\n",
       " 'Rep3-3': 20,\n",
       " 'Rep3-4': 21,\n",
       " 'Rep3-5': 22,\n",
       " 'Rep3-6': 23,\n",
       " 'CRep3-1': 24,\n",
       " 'CRep3-2': 25,\n",
       " 'CRep3-3': 26,\n",
       " 'CRep3-4': 27,\n",
       " 'CRep3-5': 28,\n",
       " 'CRep3-6': 29,\n",
       " 'Rep4-1': 30,\n",
       " 'Rep4-2': 31,\n",
       " 'Rep4-3': 32,\n",
       " 'Rep4-4': 33,\n",
       " 'Rep4-5': 34,\n",
       " 'Rep4-6': 35,\n",
       " 'CRep4-1': 36,\n",
       " 'CRep4-2': 37,\n",
       " 'CRep4-3': 38,\n",
       " 'CRep4-4': 39,\n",
       " 'CRep4-5': 40,\n",
       " 'CRep4-6': 41,\n",
       " 'RepEmbed-1': 42,\n",
       " 'RepEmbed-2': 43,\n",
       " 'RepEmbed-3': 44,\n",
       " 'RepEmbed-4': 45,\n",
       " 'RepEmbed-5': 46,\n",
       " 'RepEmbed-6': 47,\n",
       " 'C1RepEmbed-1': 48,\n",
       " 'C1RepEmbed-2': 49,\n",
       " 'C1RepEmbed-3': 50,\n",
       " 'C1RepEmbed-4': 51,\n",
       " 'C1RepEmbed-5': 52,\n",
       " 'C1RepEmbed-6': 53,\n",
       " 'C2RepEmbed-1': 54,\n",
       " 'C2RepEmbed-2': 55,\n",
       " 'C2RepEmbed-3': 56,\n",
       " 'C2RepEmbed-4': 57,\n",
       " 'C2RepEmbed-5': 58,\n",
       " 'C2RepEmbed-6': 59,\n",
       " 'win': 60,\n",
       " 'loss': 61}"
      ]
     },
     "execution_count": 17,
     "metadata": {},
     "output_type": "execute_result"
    }
   ],
   "source": [
    "event_dict"
   ]
  }
 ],
 "metadata": {
  "kernelspec": {
   "display_name": "mne_python",
   "language": "python",
   "name": "mne_python"
  },
  "language_info": {
   "codemirror_mode": {
    "name": "ipython",
    "version": 3
   },
   "file_extension": ".py",
   "mimetype": "text/x-python",
   "name": "python",
   "nbconvert_exporter": "python",
   "pygments_lexer": "ipython3",
   "version": "3.9.19"
  }
 },
 "nbformat": 4,
 "nbformat_minor": 5
}
