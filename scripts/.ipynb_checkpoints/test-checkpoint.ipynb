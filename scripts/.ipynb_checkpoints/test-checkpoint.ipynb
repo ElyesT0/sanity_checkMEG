{
 "cells": [
  {
   "cell_type": "markdown",
   "id": "b61d04be-3654-4b67-80a7-8d48f2628352",
   "metadata": {},
   "source": [
    "<style>\n",
    "    .tab-container {\n",
    "        display: flex;\n",
    "        flex-wrap: wrap;\n",
    "        margin-top: 20px;\n",
    "    }\n",
    "    .tab {\n",
    "        cursor: pointer;\n",
    "        padding: 10px 20px;\n",
    "        margin-right: 5px;\n",
    "        background-color: #eee;\n",
    "        border-radius: 5px;\n",
    "    }\n",
    "    .tab.active {\n",
    "        background-color: #ccc;\n",
    "        font-weight: bold;\n",
    "    }\n",
    "    .tab-content {\n",
    "        display: none;\n",
    "        margin-top: 20px;\n",
    "    }\n",
    "    .tab-content.active {\n",
    "        display: block;\n",
    "    }\n",
    "</style>\n",
    "\n",
    "<script>\n",
    "    document.addEventListener(\"DOMContentLoaded\", function() {\n",
    "        const tabs = document.querySelectorAll(\".tab\");\n",
    "        tabs.forEach((tab, index) => {\n",
    "            tab.addEventListener(\"click\", () => {\n",
    "                // Désactiver tous les onglets et cacher tout le contenu\n",
    "                tabs.forEach(t => t.classList.remove(\"active\"));\n",
    "                document.querySelectorAll(\".tab-content\").forEach(c => c.classList.remove(\"active\"));\n",
    "                \n",
    "                // Activer l'onglet cliqué et afficher le contenu correspondant\n",
    "                tab.classList.add(\"active\");\n",
    "                document.getElementById(`content-${index + 1}`).classList.add(\"active\");\n",
    "            });\n",
    "        });\n",
    "\n",
    "        // Activer par défaut le premier onglet et son contenu\n",
    "        if (tabs.length > 0) {\n",
    "            tabs[0].classList.add(\"active\");\n",
    "            document.getElementById(\"content-1\").classList.add(\"active\");\n",
    "        }\n",
    "    });\n",
    "</script>\n"
   ]
  },
  {
   "cell_type": "markdown",
   "id": "d315ee18-5e70-4157-9d7c-c24e06144a41",
   "metadata": {},
   "source": [
    "<div class=\"tab-container\">\n",
    "    <div class=\"tab\" id=\"tab-1\">Analyse des Ventes</div>\n",
    "    <div class=\"tab\" id=\"tab-2\">Analyse des Tendances</div>\n",
    "    <!-- Ajoutez autant d'onglets que nécessaire -->\n",
    "</div>\n"
   ]
  },
  {
   "cell_type": "markdown",
   "id": "f21a56b7-49f1-4b0d-b759-157e2f4f86cf",
   "metadata": {},
   "source": [
    "<div class=\"tab-content\" id=\"content-1\">\n",
    "    <h2>Analyse des Ventes</h2>\n",
    "    <p>Voici le contenu de l'analyse des ventes.</p>\n",
    "    <!-- Insérez ici vos cellules de code et graphiques pour cette section -->\n"
   ]
  },
  {
   "cell_type": "code",
   "execution_count": 10,
   "id": "4bcdeed0-1d37-496c-a2aa-5099a9809160",
   "metadata": {},
   "outputs": [
    {
     "data": {
      "text/plain": [
       "7"
      ]
     },
     "execution_count": 10,
     "metadata": {},
     "output_type": "execute_result"
    }
   ],
   "source": [
    "2+5"
   ]
  },
  {
   "cell_type": "markdown",
   "id": "10720be4-406c-48cc-aed0-498451f41167",
   "metadata": {},
   "source": [
    "</div>\n",
    "\n",
    "<div class=\"tab-content\" id=\"content-2\">\n",
    "    <h2>Analyse des Tendances</h2>\n",
    "    <p>Voici le contenu de l'analyse des tendances.</p>\n",
    "\n"
   ]
  },
  {
   "cell_type": "code",
   "execution_count": 13,
   "id": "314d0791-631b-43b4-beb9-1fa2e51194cc",
   "metadata": {},
   "outputs": [
    {
     "data": {
      "text/plain": [
       "4.0"
      ]
     },
     "execution_count": 13,
     "metadata": {},
     "output_type": "execute_result"
    }
   ],
   "source": [
    "8/2"
   ]
  },
  {
   "cell_type": "markdown",
   "id": "67dda73f-bb84-48e0-8682-144f9d186bdc",
   "metadata": {},
   "source": [
    "\n",
    "</div>"
   ]
  },
  {
   "cell_type": "code",
   "execution_count": null,
   "id": "6e1c84a7-4227-4508-ac8b-3f8b9dee32f6",
   "metadata": {},
   "outputs": [],
   "source": []
  }
 ],
 "metadata": {
  "kernelspec": {
   "display_name": "mne_python",
   "language": "python",
   "name": "mne_python"
  },
  "language_info": {
   "codemirror_mode": {
    "name": "ipython",
    "version": 3
   },
   "file_extension": ".py",
   "mimetype": "text/x-python",
   "name": "python",
   "nbconvert_exporter": "python",
   "pygments_lexer": "ipython3",
   "version": "3.9.19"
  }
 },
 "nbformat": 4,
 "nbformat_minor": 5
}
